{
 "cells": [
  {
   "cell_type": "code",
   "execution_count": 1,
   "metadata": {},
   "outputs": [],
   "source": [
    "import datetime\n",
    "import numpy as np\n",
    "import pandas as pd\n",
    "import os\n",
    "import tensorflow as tf\n",
    "tf.random.set_seed(777)\n",
    "drop_rate=0.3"
   ]
  },
  {
   "cell_type": "code",
   "execution_count": 2,
   "metadata": {},
   "outputs": [],
   "source": [
    "def min_max_scaler(data):\n",
    "    numerator = data - np.min(data, 0)\n",
    "    denominator = np.max(data, 0) - np.min(data, 0)\n",
    "    return numerator / (denominator + 1e-7)"
   ]
  },
  {
   "cell_type": "code",
   "execution_count": 3,
   "metadata": {},
   "outputs": [],
   "source": [
    "def create_model(x,y):\n",
    "    tf.model=tf.keras.Sequential()\n",
    "    tf.model=tf.keras.Sequential()\n",
    "    tf.model.add(tf.keras.layers.Conv1D(filters=40, kernel_size=6, input_shape=(x.shape[1],1),strides=1,activation='relu'))\n",
    "    tf.model.add(tf.keras.layers.Dropout(drop_rate))\n",
    "# L2\n",
    "    tf.model.add(tf.keras.layers.Conv1D(filters=40, kernel_size=2,strides=1, activation='relu'))\n",
    "    tf.model.add(tf.keras.layers.Dropout(drop_rate))\n",
    "# L fully connected\n",
    "    tf.model.add(tf.keras.layers.Flatten())\n",
    "    tf.model.add(tf.keras.layers.Dense(units=y.shape[1], kernel_initializer='glorot_normal', activation='relu'))\n",
    "    \n",
    "    \n",
    "    tf.model.compile(loss='mse', optimizer=tf.optimizers.Adam(lr=0.001), metrics=['accuracy'])\n",
    "    tf.model.summary()"
   ]
  },
  {
   "cell_type": "code",
   "execution_count": 4,
   "metadata": {},
   "outputs": [],
   "source": [
    "def load_model():\n",
    "    number=int(np.loadtxt('min_loss_accuracy_wine_CNN.csv',delimiter=','))\n",
    "    print(number)\n",
    "    tf.model.load_weights(f\"train_model_wine_ver2_CNN/cp-{number}.ckpt\")"
   ]
  },
  {
   "cell_type": "code",
   "execution_count": 5,
   "metadata": {},
   "outputs": [],
   "source": [
    "xy1=pd.read_csv('datasets_Wine.csv')\n",
    "xy=xy1.values\n",
    "for i in range(0,xy.shape[0]):\n",
    "    if(xy[i][-1]=='good'):\n",
    "        xy[i][-1]=1\n",
    "    elif(xy[i][-1]=='bad'):\n",
    "        xy[i][-1]=0\n",
    "\n",
    "xy[:,:-1]=min_max_scaler(xy[:,:-1])\n",
    "test_line=int(xy.shape[0]*0.7)\n",
    "x_data1=xy[:,:-1]\n",
    "x_data1=x_data1.reshape(x_data1.shape[0],x_data1.shape[1],1)\n",
    "x_data=x_data1[:test_line,:]\n",
    "\n",
    "y_data=xy[:test_line,[-1]] \n",
    "x_test=x_data1[test_line:,:]\n",
    "y_test=xy[test_line:,[-1]] \n",
    "x_data = np.array(x_data, dtype=np.float32) \n",
    "y_data = np.array(y_data, dtype=np.float32) \n",
    "x_test = np.array(x_test, dtype=np.float32) \n",
    "y_test = np.array(y_test, dtype=np.float32) "
   ]
  },
  {
   "cell_type": "code",
   "execution_count": 6,
   "metadata": {
    "scrolled": true
   },
   "outputs": [
    {
     "name": "stdout",
     "output_type": "stream",
     "text": [
      "Model: \"sequential_1\"\n",
      "_________________________________________________________________\n",
      "Layer (type)                 Output Shape              Param #   \n",
      "=================================================================\n",
      "conv1d (Conv1D)              (None, 6, 40)             280       \n",
      "_________________________________________________________________\n",
      "dropout (Dropout)            (None, 6, 40)             0         \n",
      "_________________________________________________________________\n",
      "conv1d_1 (Conv1D)            (None, 5, 40)             3240      \n",
      "_________________________________________________________________\n",
      "dropout_1 (Dropout)          (None, 5, 40)             0         \n",
      "_________________________________________________________________\n",
      "flatten (Flatten)            (None, 200)               0         \n",
      "_________________________________________________________________\n",
      "dense (Dense)                (None, 1)                 201       \n",
      "=================================================================\n",
      "Total params: 3,721\n",
      "Trainable params: 3,721\n",
      "Non-trainable params: 0\n",
      "_________________________________________________________________\n",
      "925\n",
      "Model: \"sequential_1\"\n",
      "_________________________________________________________________\n",
      "Layer (type)                 Output Shape              Param #   \n",
      "=================================================================\n",
      "conv1d (Conv1D)              (None, 6, 40)             280       \n",
      "_________________________________________________________________\n",
      "dropout (Dropout)            (None, 6, 40)             0         \n",
      "_________________________________________________________________\n",
      "conv1d_1 (Conv1D)            (None, 5, 40)             3240      \n",
      "_________________________________________________________________\n",
      "dropout_1 (Dropout)          (None, 5, 40)             0         \n",
      "_________________________________________________________________\n",
      "flatten (Flatten)            (None, 200)               0         \n",
      "_________________________________________________________________\n",
      "dense (Dense)                (None, 1)                 201       \n",
      "=================================================================\n",
      "Total params: 3,721\n",
      "Trainable params: 3,721\n",
      "Non-trainable params: 0\n",
      "_________________________________________________________________\n",
      "480/480 [==============================] - 0s 164us/sample - loss: 0.1720 - accuracy: 0.7771\n",
      "loss: 0.1720102568467458, accuracy: 0.7770833373069763\n"
     ]
    }
   ],
   "source": [
    "create_model(x_data,y_data)\n",
    "load_model()\n",
    "tf.model.summary()\n",
    "evaluate = tf.model.evaluate(x_test, y_test) \n",
    "print(\"loss: {0}, accuracy: {1}\".format(evaluate[0], evaluate[1]))"
   ]
  },
  {
   "cell_type": "code",
   "execution_count": null,
   "metadata": {},
   "outputs": [],
   "source": []
  },
  {
   "cell_type": "code",
   "execution_count": null,
   "metadata": {},
   "outputs": [],
   "source": []
  },
  {
   "cell_type": "code",
   "execution_count": null,
   "metadata": {},
   "outputs": [],
   "source": []
  }
 ],
 "metadata": {
  "kernelspec": {
   "display_name": "Python 3 (ipykernel)",
   "language": "python",
   "name": "python3"
  },
  "language_info": {
   "codemirror_mode": {
    "name": "ipython",
    "version": 3
   },
   "file_extension": ".py",
   "mimetype": "text/x-python",
   "name": "python",
   "nbconvert_exporter": "python",
   "pygments_lexer": "ipython3",
   "version": "3.8.11"
  }
 },
 "nbformat": 4,
 "nbformat_minor": 4
}
