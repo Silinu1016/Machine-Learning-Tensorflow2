{
 "cells": [
  {
   "cell_type": "code",
   "execution_count": 1,
   "metadata": {},
   "outputs": [],
   "source": [
    "import datetime\n",
    "import numpy as np\n",
    "import pandas as pd\n",
    "import os\n",
    "import tensorflow as tf\n",
    "tf.random.set_seed(777)\n",
    "drop_rate=0.3"
   ]
  },
  {
   "cell_type": "code",
   "execution_count": 2,
   "metadata": {},
   "outputs": [],
   "source": [
    "def min_max_scaler(data):\n",
    "    numerator = data - np.min(data, 0)\n",
    "    denominator = np.max(data, 0) - np.min(data, 0)\n",
    "    return numerator / (denominator + 1e-7)"
   ]
  },
  {
   "cell_type": "code",
   "execution_count": 3,
   "metadata": {},
   "outputs": [],
   "source": [
    "def create_model(x,y):\n",
    "    model=tf.model = tf.keras.Sequential()\n",
    "    tf.model.add(tf.keras.layers.Dense(units=60,input_dim=x.shape[1], activation='relu'))\n",
    "    tf.model.add(tf.keras.layers.Dropout(drop_rate))\n",
    "    tf.model.add(tf.keras.layers.Dense(units=45, activation='relu'))\n",
    "    tf.model.add(tf.keras.layers.Dropout(drop_rate))\n",
    "    tf.model.add(tf.keras.layers.Dense(units=30, activation='relu'))\n",
    "    tf.model.add(tf.keras.layers.Dropout(drop_rate))\n",
    "    tf.model.add(tf.keras.layers.Dense(units=15, activation='relu'))\n",
    "    tf.model.add(tf.keras.layers.Dropout(drop_rate))\n",
    "    tf.model.add(tf.keras.layers.Dense(units=y.shape[1], activation='relu'))\n",
    "    tf.model.compile(loss='mse', optimizer=tf.optimizers.Adam(lr=0.001), metrics=['accuracy'])\n",
    "    return model"
   ]
  },
  {
   "cell_type": "code",
   "execution_count": 4,
   "metadata": {},
   "outputs": [],
   "source": [
    "def load_model():\n",
    "    number=int(np.loadtxt('min_loss_accuracy_LOL_dropout.csv',delimiter=','))\n",
    "    print(number)\n",
    "    tf.model.load_weights(f\"train_model_ver2_dropout/cp-{number}.ckpt\")"
   ]
  },
  {
   "cell_type": "code",
   "execution_count": 5,
   "metadata": {},
   "outputs": [],
   "source": [
    "xy1=pd.read_csv('high_diamond_ranked_10min.csv')\n",
    "xy=xy1.values\n",
    "xy[:,2:]=min_max_scaler(xy[:,2:])\n",
    "test_line=int(len(xy)*0.7)\n",
    "x_data=xy[:test_line,2:]\n",
    "y_data=xy[:test_line,[1]] \n",
    "x_test=xy[test_line:,2:]\n",
    "y_test=xy[test_line:,[1]] "
   ]
  },
  {
   "cell_type": "code",
   "execution_count": 9,
   "metadata": {
    "scrolled": true
   },
   "outputs": [
    {
     "name": "stdout",
     "output_type": "stream",
     "text": [
      "806\n",
      "Model: \"sequential_3\"\n",
      "_________________________________________________________________\n",
      "Layer (type)                 Output Shape              Param #   \n",
      "=================================================================\n",
      "dense_15 (Dense)             (None, 60)                2340      \n",
      "_________________________________________________________________\n",
      "dropout_12 (Dropout)         (None, 60)                0         \n",
      "_________________________________________________________________\n",
      "dense_16 (Dense)             (None, 45)                2745      \n",
      "_________________________________________________________________\n",
      "dropout_13 (Dropout)         (None, 45)                0         \n",
      "_________________________________________________________________\n",
      "dense_17 (Dense)             (None, 30)                1380      \n",
      "_________________________________________________________________\n",
      "dropout_14 (Dropout)         (None, 30)                0         \n",
      "_________________________________________________________________\n",
      "dense_18 (Dense)             (None, 15)                465       \n",
      "_________________________________________________________________\n",
      "dropout_15 (Dropout)         (None, 15)                0         \n",
      "_________________________________________________________________\n",
      "dense_19 (Dense)             (None, 1)                 16        \n",
      "=================================================================\n",
      "Total params: 6,946\n",
      "Trainable params: 6,946\n",
      "Non-trainable params: 0\n",
      "_________________________________________________________________\n",
      "2964/2964 [==============================] - 0s 34us/sample - loss: 0.1858 - accuracy: 0.7122\n",
      "loss: 0.18580439153872683, accuracy: 0.7122132182121277\n"
     ]
    }
   ],
   "source": [
    "create_model(x_data,y_data)\n",
    "load_model()\n",
    "tf.model.summary()\n",
    "evaluate = tf.model.evaluate(x_test, y_test) \n",
    "print(\"loss: {0}, accuracy: {1}\".format(evaluate[0], evaluate[1]))"
   ]
  },
  {
   "cell_type": "code",
   "execution_count": null,
   "metadata": {},
   "outputs": [],
   "source": []
  },
  {
   "cell_type": "code",
   "execution_count": null,
   "metadata": {},
   "outputs": [],
   "source": []
  },
  {
   "cell_type": "code",
   "execution_count": null,
   "metadata": {},
   "outputs": [],
   "source": []
  }
 ],
 "metadata": {
  "kernelspec": {
   "display_name": "Python 3",
   "language": "python",
   "name": "python3"
  },
  "language_info": {
   "codemirror_mode": {
    "name": "ipython",
    "version": 3
   },
   "file_extension": ".py",
   "mimetype": "text/x-python",
   "name": "python",
   "nbconvert_exporter": "python",
   "pygments_lexer": "ipython3",
   "version": "3.6.12"
  }
 },
 "nbformat": 4,
 "nbformat_minor": 4
}
