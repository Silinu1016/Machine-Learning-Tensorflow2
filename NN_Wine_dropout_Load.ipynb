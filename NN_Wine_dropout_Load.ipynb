{
 "cells": [
  {
   "cell_type": "code",
   "execution_count": 1,
   "metadata": {},
   "outputs": [],
   "source": [
    "import datetime\n",
    "import numpy as np\n",
    "import pandas as pd\n",
    "import os\n",
    "import tensorflow as tf\n",
    "tf.random.set_seed(777)\n",
    "drop_rate=0.3"
   ]
  },
  {
   "cell_type": "code",
   "execution_count": 2,
   "metadata": {},
   "outputs": [],
   "source": [
    "def min_max_scaler(data):\n",
    "    numerator = data - np.min(data, 0)\n",
    "    denominator = np.max(data, 0) - np.min(data, 0)\n",
    "    return numerator / (denominator + 1e-7)"
   ]
  },
  {
   "cell_type": "code",
   "execution_count": 3,
   "metadata": {},
   "outputs": [],
   "source": [
    "def create_model(x,y):\n",
    "    tf.model = tf.keras.Sequential() \n",
    "    tf.model.add(tf.keras.layers.Dense(units=100,input_dim=x.shape[1], activation='sigmoid'))\n",
    "    tf.model.add(tf.keras.layers.Dropout(drop_rate))\n",
    "    tf.model.add(tf.keras.layers.Dense(units=50, activation='sigmoid'))\n",
    "    tf.model.add(tf.keras.layers.Dropout(drop_rate))\n",
    "    tf.model.add(tf.keras.layers.Dense(units=25, activation='sigmoid'))\n",
    "    tf.model.add(tf.keras.layers.Dropout(drop_rate))\n",
    "    tf.model.add(tf.keras.layers.Dense(units=10, activation='sigmoid'))\n",
    "    tf.model.add(tf.keras.layers.Dropout(drop_rate))\n",
    "    tf.model.add(tf.keras.layers.Dense(units=y.shape[1], activation='sigmoid'))\n",
    "    tf.model.compile(loss='mse', optimizer=tf.optimizers.Adam(lr=0.001), metrics=['accuracy'])\n",
    "    "
   ]
  },
  {
   "cell_type": "code",
   "execution_count": 4,
   "metadata": {},
   "outputs": [],
   "source": [
    "def load_model():\n",
    "    number=int(np.loadtxt('min_loss_accuracy_wine_dropout.csv',delimiter=','))\n",
    "    print(number)\n",
    "    tf.model.load_weights(f\"train_model_wine_ver2_dropout/cp-{number}.ckpt\")"
   ]
  },
  {
   "cell_type": "code",
   "execution_count": 5,
   "metadata": {},
   "outputs": [],
   "source": [
    "xy1=pd.read_csv('datasets_Wine.csv')\n",
    "xy=xy1.values\n",
    "for i in range(0,xy.shape[0]):\n",
    "    if(xy[i][-1]=='good'):\n",
    "        xy[i][-1]=1\n",
    "    elif(xy[i][-1]=='bad'):\n",
    "        xy[i][-1]=0\n",
    "\n",
    "xy[:,:-1]=min_max_scaler(xy[:,:-1])\n",
    "test_line=int(xy.shape[0]*0.7)\n",
    "x_data=xy[:test_line,:-1]\n",
    "y_data=xy[:test_line,[-1]] \n",
    "x_test=xy[test_line:,:-1]\n",
    "y_test=xy[test_line:,[-1]] \n",
    "x_data = np.array(x_data, dtype=np.float32) \n",
    "y_data = np.array(y_data, dtype=np.float32) \n",
    "x_test = np.array(x_test, dtype=np.float32) \n",
    "y_test = np.array(y_test, dtype=np.float32) "
   ]
  },
  {
   "cell_type": "code",
   "execution_count": 6,
   "metadata": {
    "scrolled": true
   },
   "outputs": [
    {
     "name": "stdout",
     "output_type": "stream",
     "text": [
      "468\n",
      "Model: \"sequential\"\n",
      "_________________________________________________________________\n",
      "Layer (type)                 Output Shape              Param #   \n",
      "=================================================================\n",
      "dense (Dense)                (None, 100)               1200      \n",
      "_________________________________________________________________\n",
      "dropout (Dropout)            (None, 100)               0         \n",
      "_________________________________________________________________\n",
      "dense_1 (Dense)              (None, 50)                5050      \n",
      "_________________________________________________________________\n",
      "dropout_1 (Dropout)          (None, 50)                0         \n",
      "_________________________________________________________________\n",
      "dense_2 (Dense)              (None, 25)                1275      \n",
      "_________________________________________________________________\n",
      "dropout_2 (Dropout)          (None, 25)                0         \n",
      "_________________________________________________________________\n",
      "dense_3 (Dense)              (None, 10)                260       \n",
      "_________________________________________________________________\n",
      "dropout_3 (Dropout)          (None, 10)                0         \n",
      "_________________________________________________________________\n",
      "dense_4 (Dense)              (None, 1)                 11        \n",
      "=================================================================\n",
      "Total params: 7,796\n",
      "Trainable params: 7,796\n",
      "Non-trainable params: 0\n",
      "_________________________________________________________________\n",
      "480/480 [==============================] - 0s 158us/sample - loss: 0.1808 - accuracy: 0.7625\n",
      "loss: 0.18081902712583542, accuracy: 0.762499988079071\n"
     ]
    }
   ],
   "source": [
    "create_model(x_data,y_data)\n",
    "load_model()\n",
    "tf.model.summary()\n",
    "evaluate = tf.model.evaluate(x_test, y_test) \n",
    "print(\"loss: {0}, accuracy: {1}\".format(evaluate[0], evaluate[1]))"
   ]
  },
  {
   "cell_type": "code",
   "execution_count": null,
   "metadata": {},
   "outputs": [],
   "source": []
  },
  {
   "cell_type": "code",
   "execution_count": null,
   "metadata": {},
   "outputs": [],
   "source": []
  },
  {
   "cell_type": "code",
   "execution_count": null,
   "metadata": {},
   "outputs": [],
   "source": []
  }
 ],
 "metadata": {
  "kernelspec": {
   "display_name": "Python 3",
   "language": "python",
   "name": "python3"
  },
  "language_info": {
   "codemirror_mode": {
    "name": "ipython",
    "version": 3
   },
   "file_extension": ".py",
   "mimetype": "text/x-python",
   "name": "python",
   "nbconvert_exporter": "python",
   "pygments_lexer": "ipython3",
   "version": "3.7.7"
  }
 },
 "nbformat": 4,
 "nbformat_minor": 4
}
