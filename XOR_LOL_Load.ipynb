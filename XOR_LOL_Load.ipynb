{
 "cells": [
  {
   "cell_type": "code",
   "execution_count": 1,
   "metadata": {},
   "outputs": [],
   "source": [
    "import datetime\n",
    "import numpy as np\n",
    "import pandas as pd\n",
    "import os\n",
    "import tensorflow as tf\n",
    "tf.random.set_seed(777)"
   ]
  },
  {
   "cell_type": "code",
   "execution_count": 2,
   "metadata": {},
   "outputs": [],
   "source": [
    "def min_max_scaler(data):\n",
    "    numerator = data - np.min(data, 0)\n",
    "    denominator = np.max(data, 0) - np.min(data, 0)\n",
    "    return numerator / (denominator + 1e-7)"
   ]
  },
  {
   "cell_type": "code",
   "execution_count": 3,
   "metadata": {},
   "outputs": [],
   "source": [
    "def create_model(x,y):\n",
    "    model=tf.model = tf.keras.Sequential()\n",
    "    tf.model.add(tf.keras.layers.Dense(units=5, input_dim=x.shape[1], activation='sigmoid'))\n",
    "    tf.model.add(tf.keras.layers.Dense(units=3, activation='sigmoid'))\n",
    "    tf.model.add(tf.keras.layers.Dense(units=y.shape[1], activation='sigmoid'))\n",
    "    tf.model.compile(loss='binary_crossentropy', optimizer=tf.optimizers.Adam(lr=0.1), metrics=['accuracy'])\n",
    "    return model"
   ]
  },
  {
   "cell_type": "code",
   "execution_count": 4,
   "metadata": {},
   "outputs": [],
   "source": [
    "def load_model():\n",
    "    number=int(np.loadtxt('max_vla_accuracy_LOL.csv',delimiter=','))\n",
    "    tf.model.load_weights(f\"train_model_ver2/cp-{number}.ckpt\")"
   ]
  },
  {
   "cell_type": "code",
   "execution_count": 7,
   "metadata": {},
   "outputs": [],
   "source": [
    "xy1=pd.read_csv('high_diamond_ranked_10min.csv')\n",
    "xy=xy1.values\n",
    "xy[:,2:]=min_max_scaler(xy[:,2:])\n",
    "test_line=int(len(xy)*0.7)\n",
    "x_data=xy[:test_line,2:]\n",
    "y_data=xy[:test_line,[1]] \n",
    "x_test=xy[test_line:,2:]\n",
    "y_test=xy[test_line:,[1]] "
   ]
  },
  {
   "cell_type": "code",
   "execution_count": 8,
   "metadata": {},
   "outputs": [
    {
     "name": "stdout",
     "output_type": "stream",
     "text": [
      "Model: \"sequential\"\n",
      "_________________________________________________________________\n",
      "Layer (type)                 Output Shape              Param #   \n",
      "=================================================================\n",
      "dense (Dense)                (None, 5)                 195       \n",
      "_________________________________________________________________\n",
      "dense_1 (Dense)              (None, 3)                 18        \n",
      "_________________________________________________________________\n",
      "dense_2 (Dense)              (None, 1)                 4         \n",
      "=================================================================\n",
      "Total params: 217\n",
      "Trainable params: 217\n",
      "Non-trainable params: 0\n",
      "_________________________________________________________________\n",
      "2964/2964 [==============================] - 0s 56us/sample - loss: 0.5497 - accuracy: 0.7389\n",
      "Accuracy:  0.7388664\n"
     ]
    }
   ],
   "source": [
    "create_model(x_data,y_data)\n",
    "load_model()\n",
    "tf.model.summary()\n",
    "score = tf.model.evaluate(x_test, y_test)\n",
    "print('Accuracy: ', score[1])"
   ]
  }
 ],
 "metadata": {
  "kernelspec": {
   "display_name": "Python 3",
   "language": "python",
   "name": "python3"
  },
  "language_info": {
   "codemirror_mode": {
    "name": "ipython",
    "version": 3
   },
   "file_extension": ".py",
   "mimetype": "text/x-python",
   "name": "python",
   "nbconvert_exporter": "python",
   "pygments_lexer": "ipython3",
   "version": "3.7.7"
  }
 },
 "nbformat": 4,
 "nbformat_minor": 4
}
